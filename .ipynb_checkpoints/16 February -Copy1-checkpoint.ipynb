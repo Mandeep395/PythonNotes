{
 "cells": [
  {
   "cell_type": "markdown",
   "metadata": {},
   "source": [
    "\n",
    "# 16 FEBRUARY\n",
    "***CLASS NOT Attended DUE TO NAGAR KIRTAN"
   ]
  },
  {
   "cell_type": "markdown",
   "metadata": {},
   "source": [
    "# sum method,column wise sum"
   ]
  },
  {
   "cell_type": "code",
   "execution_count": 62,
   "metadata": {},
   "outputs": [
    {
     "name": "stdout",
     "output_type": "stream",
     "text": [
      "3\n",
      "[[11 12 13 14]\n",
      " [14 15 16 17]\n",
      " [17 18 19 10]]\n",
      "\n",
      " [4 5 6 7]\n",
      "(2, 3, 4)\n",
      "--------\n",
      "232\n",
      "[[12 15 18 11]\n",
      " [42 45 48 41]]\n"
     ]
    }
   ],
   "source": [
    "#example\n",
    "a=np.array([[[1,2,3,4],[4,5,6,7],[7,8,9,0]],[[11,12,13,14],[14,15,16,17],[17,18,19,10]]])\n",
    "print(a.ndim)\n",
    "print(a[1])\n",
    "print(\"\\n\",a[0][1])\n",
    "print(a.shape)\n",
    "print(\"--------\")\n",
    "totalSum=np.sum(a)\n",
    "print(totalSum)\n",
    "rowsum=np.sum(a,axis=1)\n",
    "print(rowsum)\n",
    "#rowsum=([[[1,2,3,4],[4,5,6,7],[7,8,9,0]],[[11,12,13,14],[14,15,16,17],[17,18,19,10]]])\n",
    "#[[1,2,3,4],[4,5,6,7],[7,8,9,0]]=[1+4+7 2+5+8 3+6+9  4+7+0]\n",
    "#[[11,12,13,14],[14,15,16,17],[17,18,19,10]]]=[11+14+17 12+15+18 13+16+19 14+17+10]"
   ]
  },
  {
   "cell_type": "code",
   "execution_count": 171,
   "metadata": {},
   "outputs": [
    {
     "name": "stdout",
     "output_type": "stream",
     "text": [
      "[[14 17 12 33 44]\n",
      " [15  6 27  8 19]\n",
      " [23  2 54  1  4]]\n",
      "[[52 25 93 42 67]]\n"
     ]
    }
   ],
   "source": [
    "#list of lists\n",
    "import numpy as np\n",
    "myarr=np.array([ [[14, 17, 12, 33, 44],\n",
    "                 [15, 6, 27, 8, 19],\n",
    "                 [23, 2, 54, 1, 4,]]])\n",
    "\n",
    "colsum=np.sum(myarr, axis=0)\n",
    "print(colsum)\n",
    "rowsum=np.sum(myarr, axis=1)\n",
    "#same\n",
    "print(myarr.sum(axis=1))\n"
   ]
  },
  {
   "cell_type": "markdown",
   "metadata": {},
   "source": [
    "# slice is a view"
   ]
  },
  {
   "cell_type": "code",
   "execution_count": 172,
   "metadata": {},
   "outputs": [],
   "source": [
    "myarr=np.array([ [14, 17, 12, 33, 44],\n",
    "                 [15, 6, 27, 8, 19],\n",
    "                 [23, 2, 54, 1, 4,]])"
   ]
  },
  {
   "cell_type": "code",
   "execution_count": 60,
   "metadata": {},
   "outputs": [
    {
     "name": "stdout",
     "output_type": "stream",
     "text": [
      "slice: [50 45 44]\n",
      "array: [[14 17 12 33 44]\n",
      " [15 50 45 44 19]\n",
      " [23  2 54  1  4]]\n"
     ]
    }
   ],
   "source": [
    "#slice is a view\n",
    "b=myarr[1,1:-1]\n",
    "b[0]=50\n",
    "b[1]=45\n",
    "b[2]=44\n",
    "print(\"slice:\",b)\n",
    "print(\"array:\",myarr)\n",
    "#here changes in slice/view of array also reflects in original array\n",
    "#this means slice is pointing to same location where array is stored\n"
   ]
  },
  {
   "cell_type": "code",
   "execution_count": 61,
   "metadata": {},
   "outputs": [
    {
     "name": "stdout",
     "output_type": "stream",
     "text": [
      "slice: [50 45 44]\n",
      "array: [[14 17 12 33 44]\n",
      " [15 50 45 44 19]\n",
      " [23  2 54  1  4]]\n"
     ]
    }
   ],
   "source": [
    "#to avoid this we need to use copy method as\n",
    "b=myarr[1,1:-1].copy()\n",
    "b[0]=50\n",
    "b[1]=45\n",
    "b[2]=44\n",
    "print(\"slice:\",b)\n",
    "print(\"array:\",myarr)"
   ]
  },
  {
   "cell_type": "markdown",
   "metadata": {},
   "source": [
    "# min,max,mean,argmin etc"
   ]
  },
  {
   "cell_type": "code",
   "execution_count": 63,
   "metadata": {},
   "outputs": [
    {
     "name": "stdout",
     "output_type": "stream",
     "text": [
      "19\n",
      "0\n",
      "[[ 4.          5.          6.          3.66666667]\n",
      " [14.         15.         16.         13.66666667]]\n",
      "[[12 14 16 18]\n",
      " [18 20 22 24]\n",
      " [24 26 28 10]]\n"
     ]
    }
   ],
   "source": [
    "print(a.max())\n",
    "print(a.min())\n",
    "print(a.mean(axis=1))\n",
    "print(a.sum(axis=0))\n",
    "#colsum=([[[1,2,3,4],[4,5,6,7],[7,8,9,0]],[[11,12,13,14],[14,15,16,17],[17,18,19,10]]])\n",
    "#[1,2,3,4],[11,12,13,14]=[12 14 16 18]\n",
    "#[4,5,6,7],[14,15,16,17]=[18,20,22,24]\n",
    "#[7,8,9,0],[17,18,19,0]=[24,26,28,10]"
   ]
  },
  {
   "cell_type": "code",
   "execution_count": null,
   "metadata": {},
   "outputs": [],
   "source": [
    "print(\"Mean value is: \", arr2.mean())\n",
    "print(\"Max value is: \", arr2.max())\n",
    "print(\"Min value is: \", arr2.min())"
   ]
  },
  {
   "cell_type": "code",
   "execution_count": 64,
   "metadata": {},
   "outputs": [
    {
     "name": "stdout",
     "output_type": "stream",
     "text": [
      "54\n",
      "1\n",
      "[24.  34.6 16.8]\n",
      "[ 52  69 111  78  67]\n"
     ]
    }
   ],
   "source": [
    "print(myarr.max())\n",
    "print(myarr.min())\n",
    "print(myarr.mean(axis=1))\n",
    "print(myarr.sum(axis=0))"
   ]
  },
  {
   "cell_type": "markdown",
   "metadata": {},
   "source": [
    "# use of random library or other method to populate array"
   ]
  },
  {
   "cell_type": "code",
   "execution_count": 65,
   "metadata": {},
   "outputs": [
    {
     "data": {
      "text/plain": [
       "array([[0.7499223 , 0.86327595, 0.02109541, 0.47495813, 0.01260305],\n",
       "       [0.75820922, 0.45537693, 0.64012046, 0.53056721, 0.06814785],\n",
       "       [0.41989701, 0.46566083, 0.38940044, 0.47288774, 0.20807295]])"
      ]
     },
     "execution_count": 65,
     "metadata": {},
     "output_type": "execute_result"
    }
   ],
   "source": [
    "mya=np.random.rand(3,5)\n",
    "mya"
   ]
  },
  {
   "cell_type": "code",
   "execution_count": 66,
   "metadata": {},
   "outputs": [
    {
     "name": "stdout",
     "output_type": "stream",
     "text": [
      "0.9889051087093085\n",
      "-------\n",
      "[0.49736385 0.47973692 0.9711171 ]\n",
      "---------\n",
      "[[0.11628969 0.15733293 0.27886474]\n",
      " [0.13188329 0.98354332 0.39493524]]\n",
      "---------\n",
      "[[[0.63165999 0.3493479  0.335753  ]\n",
      "  [0.60991933 0.62276631 0.75781089]]\n",
      "\n",
      " [[0.384945   0.11773967 0.52621181]\n",
      "  [0.23796666 0.48834415 0.97548393]]]\n"
     ]
    }
   ],
   "source": [
    "#if we dont give anythimg in() then one number is generated\n",
    "random=np.random.rand()\n",
    "print(random)\n",
    "print(\"-------\")\n",
    "#if we give one argument(3) in then it creates one d array with 3 elements\n",
    "randomar=np.random.rand(3)\n",
    "print(randomar)\n",
    "print(\"---------\")\n",
    "#if we give two arguments(2,3) then it creates 2d array with 2 rows three columns \n",
    "randomar=np.random.rand(2,3)\n",
    "print(randomar)\n",
    "print(\"---------\")\n",
    "#if we give three arguments(2,2,3)then it creates two arrays with 2 rows and three columns\n",
    "randomar=np.random.rand(2,2,3)\n",
    "print(randomar)"
   ]
  },
  {
   "cell_type": "code",
   "execution_count": null,
   "metadata": {},
   "outputs": [],
   "source": [
    "vec2=np.array([6,7,8,9])\n",
    "vec2.fill(1)\n",
    "print(vec2.shape)\n",
    "print(vec2)\n",
    "\n",
    "vec2*2"
   ]
  },
  {
   "cell_type": "code",
   "execution_count": null,
   "metadata": {},
   "outputs": [],
   "source": [
    "vec2=np.array([6,7,8,9])\n",
    "vec2.fill(1)\n",
    "print(vec2.shape)\n",
    "print(vec2)\n",
    "\n",
    "vec2*2"
   ]
  },
  {
   "cell_type": "markdown",
   "metadata": {},
   "source": [
    "# reahape and flatten the array"
   ]
  },
  {
   "cell_type": "code",
   "execution_count": 67,
   "metadata": {},
   "outputs": [
    {
     "name": "stdout",
     "output_type": "stream",
     "text": [
      "[[20 21]\n",
      " [22 23]\n",
      " [24 25]\n",
      " [26 27]\n",
      " [28 29]]\n",
      "[[10 11]\n",
      " [12 13]\n",
      " [14 15]\n",
      " [16 17]\n",
      " [18 19]]\n"
     ]
    },
    {
     "data": {
      "text/plain": [
       "array([[200, 231],\n",
       "       [264, 299],\n",
       "       [336, 375],\n",
       "       [416, 459],\n",
       "       [504, 551]])"
      ]
     },
     "execution_count": 67,
     "metadata": {},
     "output_type": "execute_result"
    }
   ],
   "source": [
    "s=np.arange(20,30)\n",
    "s1=np.arange(10,20)\n",
    "s=s.reshape(5,2)\n",
    "s1=s1.reshape(5,2)\n",
    "print(s)\n",
    "print(s1)\n",
    "s*s1           \n"
   ]
  },
  {
   "cell_type": "code",
   "execution_count": 68,
   "metadata": {},
   "outputs": [
    {
     "name": "stdout",
     "output_type": "stream",
     "text": [
      "[0 1 2 3 4 5]\n",
      "[300 301 302 303 304 305 306 307 308 309 310 311 312 313 314 315 316 317\n",
      " 318 319 320 321 322 323 324 325 326]\n",
      "-----\n",
      "[[300 301 302 303 304 305 306 307 308]\n",
      " [309 310 311 312 313 314 315 316 317]\n",
      " [318 319 320 321 322 323 324 325 326]]\n",
      "--flatten(original shape)---\n",
      "[300 301 302 303 304 305 306 307 308 309 310 311 312 313 314 315 316 317\n",
      " 318 319 320 321 322 323 324 325 326] \n",
      "\n",
      "---reshape---\n",
      "[[[300 301 302]\n",
      "  [303 304 305]\n",
      "  [306 307 308]]\n",
      "\n",
      " [[309 310 311]\n",
      "  [312 313 314]\n",
      "  [315 316 317]]\n",
      "\n",
      " [[318 319 320]\n",
      "  [321 322 323]\n",
      "  [324 325 326]]]\n",
      "-------\n",
      "[305 315 325 335 345 355 365 375 385 395]\n"
     ]
    }
   ],
   "source": [
    "#we cannot give empty () in arange function\n",
    "#ar=np.arange() #not allowed\n",
    "ar=np.arange(6)\n",
    "print(ar)\n",
    "ar=np.arange(300,327)\n",
    "print(ar)\n",
    "print(\"-----\")\n",
    "b=ar.reshape(3,9)\n",
    "print(b)\n",
    "print(\"--flatten(original shape)---\")\n",
    "f=b.flatten()\n",
    "print(f,\"\\n\")\n",
    "print(\"---reshape---\")\n",
    "print(f.reshape(3,3,3))\n",
    "print(\"-------\")\n",
    "ar=np.arange(305,400,10)\n",
    "print(ar)"
   ]
  },
  {
   "cell_type": "code",
   "execution_count": 69,
   "metadata": {},
   "outputs": [
    {
     "name": "stdout",
     "output_type": "stream",
     "text": [
      "[32 23 31 67 77 24 77 23 81 78 98 81 52 97 50 34 51 12]\n"
     ]
    },
    {
     "data": {
      "text/plain": [
       "array([[[32, 23, 31],\n",
       "        [67, 77, 24],\n",
       "        [77, 23, 81]],\n",
       "\n",
       "       [[78, 98, 81],\n",
       "        [52, 97, 50],\n",
       "        [34, 51, 12]]])"
      ]
     },
     "execution_count": 69,
     "metadata": {},
     "output_type": "execute_result"
    }
   ],
   "source": [
    "a=np.random.randint(10,100,18)\n",
    "print(a)\n",
    "b=a.reshape(2,3,3)\n",
    "b"
   ]
  },
  {
   "cell_type": "code",
   "execution_count": 70,
   "metadata": {},
   "outputs": [
    {
     "name": "stdout",
     "output_type": "stream",
     "text": [
      "[[1 2]\n",
      " [3 4]\n",
      " [5 6]]\n"
     ]
    }
   ],
   "source": [
    "x=np.array([[1,2,3],[4,5,6]]) \n",
    "x.shape = (3,2) \n",
    "print(x)\n"
   ]
  },
  {
   "cell_type": "code",
   "execution_count": 71,
   "metadata": {},
   "outputs": [
    {
     "name": "stdout",
     "output_type": "stream",
     "text": [
      "[11 12 11 16 19 12 15 13 14 12 17 11 12 14 11 13 12 18 17 11 12 10 17 10\n",
      " 12 16 10 13 17 15]\n"
     ]
    },
    {
     "data": {
      "text/plain": [
       "array([[11, 12, 11, 16, 19],\n",
       "       [12, 15, 13, 14, 12],\n",
       "       [17, 11, 12, 14, 11],\n",
       "       [13, 12, 18, 17, 11],\n",
       "       [12, 10, 17, 10, 12],\n",
       "       [16, 10, 13, 17, 15]])"
      ]
     },
     "execution_count": 71,
     "metadata": {},
     "output_type": "execute_result"
    }
   ],
   "source": [
    "a= np.random.randint(10,20,30)\n",
    "print(a)\n",
    "b=a.reshape(6,5)\n",
    "b"
   ]
  },
  {
   "cell_type": "code",
   "execution_count": 72,
   "metadata": {},
   "outputs": [
    {
     "data": {
      "text/plain": [
       "array([11, 12, 11, 16, 19, 12, 15, 13, 14, 12, 17, 11, 12, 14, 11, 13, 12,\n",
       "       18, 17, 11, 12, 10, 17, 10, 12, 16, 10, 13, 17, 15])"
      ]
     },
     "execution_count": 72,
     "metadata": {},
     "output_type": "execute_result"
    }
   ],
   "source": [
    "c=b.flatten()\n",
    "c"
   ]
  },
  {
   "cell_type": "markdown",
   "metadata": {},
   "source": [
    "# another  examples"
   ]
  },
  {
   "cell_type": "code",
   "execution_count": 73,
   "metadata": {},
   "outputs": [
    {
     "data": {
      "text/plain": [
       "730"
      ]
     },
     "execution_count": 73,
     "metadata": {},
     "output_type": "execute_result"
    }
   ],
   "source": [
    "earnings =np.array( [\n",
    " [ [500,505,490], [810,450,678], [234,897,430], [560,1023,640] ], \n",
    "[ [600,605,490], [345,900,1000], [780,730,710], [670,540,324] ] \n",
    "])\n",
    "\n",
    "#Q1 : earnings of year 2019\n",
    "#Q2 : earning of 1st quarter of 2020\n",
    "#Q3 : See the earnings of all the years\n",
    "\n",
    "\n",
    "earnings[1,2,1]"
   ]
  },
  {
   "cell_type": "code",
   "execution_count": 74,
   "metadata": {},
   "outputs": [
    {
     "data": {
      "text/plain": [
       "array([[[ 505,  490],\n",
       "        [ 450,  678],\n",
       "        [ 897,  430],\n",
       "        [1023,  640]],\n",
       "\n",
       "       [[ 605,  490],\n",
       "        [ 900, 1000],\n",
       "        [ 730,  710],\n",
       "        [ 540,  324]]])"
      ]
     },
     "execution_count": 74,
     "metadata": {},
     "output_type": "execute_result"
    }
   ],
   "source": [
    "earnings[:,:,1:]"
   ]
  },
  {
   "cell_type": "code",
   "execution_count": 75,
   "metadata": {},
   "outputs": [
    {
     "data": {
      "text/plain": [
       "array([[7., 8.],\n",
       "       [6., 7.]])"
      ]
     },
     "execution_count": 75,
     "metadata": {},
     "output_type": "execute_result"
    }
   ],
   "source": [
    "import numpy as np\n",
    "list1=[[6,7,8.0,5,9],\n",
    "      [5,6,7,8,9]]\n",
    "      \n",
    "mat =np.array(list1)\n",
    "mat.shape\n",
    "mat[0:2, 1:3]"
   ]
  },
  {
   "cell_type": "code",
   "execution_count": 76,
   "metadata": {},
   "outputs": [
    {
     "name": "stdout",
     "output_type": "stream",
     "text": [
      "(4,)\n",
      "[1 1 1 1]\n"
     ]
    }
   ],
   "source": []
  },
  {
   "cell_type": "code",
   "execution_count": 78,
   "metadata": {},
   "outputs": [
    {
     "data": {
      "text/plain": [
       "array([[ 0,  3,  6,  9, 12],\n",
       "       [15, 18, 21, 24, 27]])"
      ]
     },
     "execution_count": 78,
     "metadata": {},
     "output_type": "execute_result"
    }
   ],
   "source": [
    "#create a numpy array\n",
    "import numpy as np\n",
    "\n",
    "#numpy array base is float\n",
    "\n",
    "list1 = [[0,1,2,3,4],[5,6,7,8,9]]\n",
    "arr1d = np.array(list1)\n",
    "arr1d\n",
    "type(arr1d)\n",
    "arr1d.dtype\n",
    "\n",
    "arr1d.ndim\n",
    "arr1d[1][3]\n",
    "\n",
    "arr1d*3"
   ]
  },
  {
   "cell_type": "code",
   "execution_count": 79,
   "metadata": {},
   "outputs": [
    {
     "name": "stdout",
     "output_type": "stream",
     "text": [
      "<class 'numpy.ndarray'>\n"
     ]
    },
    {
     "data": {
      "text/plain": [
       "array([[0, 1, 2, 3, 4],\n",
       "       [5, 6, 7, 8, 9]])"
      ]
     },
     "execution_count": 79,
     "metadata": {},
     "output_type": "execute_result"
    }
   ],
   "source": [
    "# Print the array and its type\n",
    "print(type(arr1d))\n",
    "arr1d"
   ]
  },
  {
   "cell_type": "markdown",
   "metadata": {},
   "source": [
    "# difference b/w array and list"
   ]
  },
  {
   "cell_type": "markdown",
   "metadata": {},
   "source": [
    "The key difference between an array and a list is, arrays are designed to handle vectorized operations while a \n",
    "python list is not.That means, if you apply a function it is performed on every item in the array, \n",
    "rather than on the whole array object.\n",
    "\n",
    "Let’s suppose you want to add the number 2 to every item in the list. The intuitive way to do it is something \n",
    "like this:"
   ]
  },
  {
   "cell_type": "code",
   "execution_count": 173,
   "metadata": {},
   "outputs": [
    {
     "ename": "TypeError",
     "evalue": "can only concatenate list (not \"int\") to list",
     "output_type": "error",
     "traceback": [
      "\u001b[1;31m---------------------------------------------------------------------------\u001b[0m",
      "\u001b[1;31mTypeError\u001b[0m                                 Traceback (most recent call last)",
      "\u001b[1;32m<ipython-input-173-f04c365663c6>\u001b[0m in \u001b[0;36m<module>\u001b[1;34m\u001b[0m\n\u001b[1;32m----> 1\u001b[1;33m \u001b[0mlist1\u001b[0m \u001b[1;33m+\u001b[0m \u001b[1;36m2\u001b[0m  \u001b[1;31m# error\u001b[0m\u001b[1;33m\u001b[0m\u001b[1;33m\u001b[0m\u001b[0m\n\u001b[0m",
      "\u001b[1;31mTypeError\u001b[0m: can only concatenate list (not \"int\") to list"
     ]
    }
   ],
   "source": [
    "list1 + 2  # error"
   ]
  },
  {
   "cell_type": "code",
   "execution_count": 174,
   "metadata": {
    "scrolled": true
   },
   "outputs": [],
   "source": [
    "#That was not possible with a list. But you can do that on a ndarray."
   ]
  },
  {
   "cell_type": "code",
   "execution_count": 83,
   "metadata": {},
   "outputs": [
    {
     "data": {
      "text/plain": [
       "array([[ 2,  3,  4,  5,  6],\n",
       "       [ 7,  8,  9, 10, 11]])"
      ]
     },
     "execution_count": 83,
     "metadata": {},
     "output_type": "execute_result"
    }
   ],
   "source": [
    "# Add 2 to each element of arr1d\n",
    "arr1d + 2"
   ]
  },
  {
   "cell_type": "code",
   "execution_count": 84,
   "metadata": {},
   "outputs": [
    {
     "name": "stdout",
     "output_type": "stream",
     "text": [
      "size of column must be same in all rows\n",
      "canot add to because of diffferent size of column in two rows\n"
     ]
    }
   ],
   "source": [
    "#columns must be same in different rows,oyherwise gives error\n",
    "try: \n",
    "    a=np.array([[1,2,3,4,5],[1,2,3,4]])\n",
    "    a+2\n",
    "except TypeError:\n",
    "    print(\"size of column must be same in all rows\")\n",
    "    print(\"canot add to because of diffferent size of column in two rows\")"
   ]
  },
  {
   "cell_type": "code",
   "execution_count": 85,
   "metadata": {},
   "outputs": [
    {
     "data": {
      "text/plain": [
       "array([[3, 4, 5, 6, 7],\n",
       "       [3, 4, 5, 6, 7]])"
      ]
     },
     "execution_count": 85,
     "metadata": {},
     "output_type": "execute_result"
    }
   ],
   "source": [
    "#columns must be same in different rows,oyherwise gives error\n",
    "a=np.array([[1,2,3,4,5],[1,2,3,4,5]])\n",
    "a+2"
   ]
  },
  {
   "cell_type": "code",
   "execution_count": 86,
   "metadata": {},
   "outputs": [
    {
     "name": "stdout",
     "output_type": "stream",
     "text": [
      "array of index is out of bound\n"
     ]
    }
   ],
   "source": [
    "#fixed size of array,we can not add  element in it,if we want to add then we nedd to create new ndarray\n",
    "try:\n",
    "    a[2]=4\n",
    "    print(a)\n",
    "except IndexError:\n",
    "    print(\"array of index is out of bound\")"
   ]
  },
  {
   "cell_type": "code",
   "execution_count": 87,
   "metadata": {},
   "outputs": [],
   "source": [
    "#Another characteristic is that, once a numpy array is created, you cannot increase its size. To do so, you will have to create a new array"
   ]
  },
  {
   "cell_type": "code",
   "execution_count": 88,
   "metadata": {},
   "outputs": [
    {
     "data": {
      "text/plain": [
       "array([[0. , 1. , 2. ],\n",
       "       [3. , 4. , 5.5],\n",
       "       [6. , 7. , 8. ]])"
      ]
     },
     "execution_count": 88,
     "metadata": {},
     "output_type": "execute_result"
    }
   ],
   "source": [
    "# Create a 2d array from a list of lists\n",
    "list2 = [[0,1,2], [3,4,5.5], [6,7,8]]\n",
    "arr2d = np.array(list2)\n",
    "arr2d"
   ]
  },
  {
   "cell_type": "markdown",
   "metadata": {},
   "source": [
    "# You may also specify the datatype by setting the dtype argument. Some of the most commonly used numpy dtypes are:\n",
    "float, int, bool, str, object"
   ]
  },
  {
   "cell_type": "code",
   "execution_count": 90,
   "metadata": {},
   "outputs": [
    {
     "name": "stdout",
     "output_type": "stream",
     "text": [
      "[[0.  1.  2. ]\n",
      " [3.  4.  5.5]\n",
      " [6.  7.  8. ]]\n",
      "---int type--\n",
      "[[0 1 0]\n",
      " [3 4 0]\n",
      " [6 7 0]]\n",
      "---str type---\n",
      "[['0' '1' '0']\n",
      " ['3' '4' '0']\n",
      " ['6' '7' '0']]\n",
      "---bool type---\n",
      "[[False  True False]\n",
      " [ True  True False]\n",
      " [ True  True False]]\n",
      "---obj type---\n",
      "[[0 1 0]\n",
      " [3 4 0]\n",
      " [6 7 0]]\n"
     ]
    }
   ],
   "source": [
    "# Create a float 2d array\n",
    "arr2d_f = np.array(list2)\n",
    "print(arr2d_f)\n",
    "arr2d_f[:,2]=0\n",
    "print(\"---int type--\")\n",
    "arr2d_f=arr2d_f.astype('int')\n",
    "print(arr2d_f)\n",
    "print(\"---str type---\")\n",
    "arr_str=arr2d_f.astype('str')\n",
    "print(arr_str)\n",
    "print(\"---bool type---\")\n",
    "arr_b=arr2d_f.astype('bool')\n",
    "print(arr_b)\n",
    "print(\"---obj type---\")\n",
    "arr_ob=arr2d_f.astype('object')\n",
    "print(arr_ob)\n",
    "#  views  ...not in original\n",
    "#a=a.\n",
    "\n",
    "# .inplace=True"
   ]
  },
  {
   "cell_type": "code",
   "execution_count": 91,
   "metadata": {},
   "outputs": [
    {
     "data": {
      "text/plain": [
       "array([[0, 1, 0],\n",
       "       [3, 4, 0],\n",
       "       [6, 7, 0]])"
      ]
     },
     "execution_count": 91,
     "metadata": {},
     "output_type": "execute_result"
    }
   ],
   "source": [
    "#You can also convert it to a different datatype using the astype method.\n",
    "arr2d_f.astype('int')"
   ]
  },
  {
   "cell_type": "code",
   "execution_count": 92,
   "metadata": {},
   "outputs": [
    {
     "data": {
      "text/plain": [
       "array([['0', '1', '0'],\n",
       "       ['3', '4', '0'],\n",
       "       ['6', '7', '0']], dtype='<U11')"
      ]
     },
     "execution_count": 92,
     "metadata": {},
     "output_type": "execute_result"
    }
   ],
   "source": [
    "# Convert to int then to str datatype\n",
    "arr2d_f.astype('int').astype('str')"
   ]
  },
  {
   "cell_type": "code",
   "execution_count": 93,
   "metadata": {},
   "outputs": [],
   "source": [
    "#However, if you are uncertain about what datatype your array will hold or if you want to hold characters and numbers in the same array, \n",
    "#you can set the dtype as 'object'."
   ]
  },
  {
   "cell_type": "code",
   "execution_count": 94,
   "metadata": {},
   "outputs": [
    {
     "data": {
      "text/plain": [
       "array([ True, False,  True])"
      ]
     },
     "execution_count": 94,
     "metadata": {},
     "output_type": "execute_result"
    }
   ],
   "source": [
    "arr2d_b = np.array([1, 0, 10], dtype='bool')\n",
    "arr2d_b"
   ]
  },
  {
   "cell_type": "code",
   "execution_count": 95,
   "metadata": {},
   "outputs": [
    {
     "data": {
      "text/plain": [
       "array([1, 'a'], dtype=object)"
      ]
     },
     "execution_count": 95,
     "metadata": {},
     "output_type": "execute_result"
    }
   ],
   "source": [
    "# Create an object array to hold numbers as well as strings\n",
    "arr1d_obj = np.array([1, 'a'], dtype='object')\n",
    "arr1d_obj"
   ]
  },
  {
   "cell_type": "code",
   "execution_count": 96,
   "metadata": {},
   "outputs": [
    {
     "data": {
      "text/plain": [
       "array([1, 'a', 'Mandeep', 142, list([3]), (7, 'm')], dtype=object)"
      ]
     },
     "execution_count": 96,
     "metadata": {},
     "output_type": "execute_result"
    }
   ],
   "source": [
    "# Create an object array to hold numbers as well as strings\n",
    "arr1d_obj = np.array([1, 'a','Mandeep',142,[3],(7,'m')], dtype='object')\n",
    "arr1d_obj"
   ]
  },
  {
   "cell_type": "code",
   "execution_count": 97,
   "metadata": {},
   "outputs": [
    {
     "data": {
      "text/plain": [
       "[1, 'a', 'Mandeep', 142, [3], (7, 'm')]"
      ]
     },
     "execution_count": 97,
     "metadata": {},
     "output_type": "execute_result"
    }
   ],
   "source": [
    "# Convert an array back to a list\n",
    "arr1d_obj.tolist()"
   ]
  },
  {
   "cell_type": "code",
   "execution_count": 98,
   "metadata": {},
   "outputs": [],
   "source": [
    "#To summarise, the main differences with python lists are:\n",
    "\n",
    "#Arrays support vectorised operations, while lists don’t.\n",
    "#Once an array is created, you cannot change its size. You will have to create a new array or overwrite the existing one.\n",
    "#Every array has one and only one dtype. All items in it should be of that dtype.\n",
    "#An equivalent numpy array occupies much less space than a python list of lists."
   ]
  },
  {
   "cell_type": "code",
   "execution_count": 99,
   "metadata": {},
   "outputs": [],
   "source": [
    "# you were handed a numpy vector that you didn’t create yourself."
   ]
  },
  {
   "cell_type": "markdown",
   "metadata": {},
   "source": [
    "# simple operations like size,ndim,shape"
   ]
  },
  {
   "cell_type": "code",
   "execution_count": 100,
   "metadata": {},
   "outputs": [],
   "source": [
    "#U want to know:\n",
    "\n",
    "#If it is a 1D or a 2D array or more. (ndim)</li>\n",
    "\n",
    "#How many items are present in each dimension (shape)</li>\n",
    "\n",
    "#What is its datatype (dtype)</li>\n",
    "\n",
    "#What is the total number of items in it (size)</li>\n",
    "\n",
    "#Samples of first few items in the array (through indexing)</li>"
   ]
  },
  {
   "cell_type": "code",
   "execution_count": 101,
   "metadata": {},
   "outputs": [
    {
     "name": "stdout",
     "output_type": "stream",
     "text": [
      "[[1. 2. 3. 4.]\n",
      " [3. 4. 5. 6.]\n",
      " [5. 6. 7. 8.]]\n"
     ]
    }
   ],
   "source": [
    "# Create a 2d array with 3 rows and 4 columns\n",
    "list2 = [[1, 2, 3, 4],[3, 4, 5, 6], [5, 6, 7, 8]]\n",
    "\n",
    "arr2 = np.array(list2, dtype='float')\n",
    "print(arr2)\n"
   ]
  },
  {
   "cell_type": "code",
   "execution_count": 102,
   "metadata": {},
   "outputs": [
    {
     "data": {
      "text/plain": [
       "'are'"
      ]
     },
     "execution_count": 102,
     "metadata": {},
     "output_type": "execute_result"
    }
   ],
   "source": [
    "str=[\n",
    "    [\"hello\", \"how\", \"are\", \"you\"],\n",
    "     [\"why have you not done\"],\n",
    "     [\"good\"], \n",
    "     [\"work\"]]\n",
    "str[0][2]\n"
   ]
  },
  {
   "cell_type": "code",
   "execution_count": 103,
   "metadata": {},
   "outputs": [
    {
     "name": "stdout",
     "output_type": "stream",
     "text": [
      "Shape:  (3, 4)\n",
      "Datatype:  float64\n"
     ]
    }
   ],
   "source": [
    "# shape\n",
    "print('Shape: ', arr2.shape)\n",
    "\n",
    "# dtype\n",
    "print('Datatype: ', arr2.dtype)"
   ]
  },
  {
   "cell_type": "code",
   "execution_count": 104,
   "metadata": {},
   "outputs": [
    {
     "name": "stdout",
     "output_type": "stream",
     "text": [
      "Size:  12\n",
      "Num Dimensions:  2\n"
     ]
    }
   ],
   "source": [
    "\n",
    "# size\n",
    "print('Size: ', arr2.size)\n",
    "\n",
    "# ndim\n",
    "print('Num Dimensions: ', arr2.ndim)"
   ]
  },
  {
   "cell_type": "code",
   "execution_count": 105,
   "metadata": {
    "scrolled": true
   },
   "outputs": [
    {
     "data": {
      "text/plain": [
       "array([[1., 2.],\n",
       "       [3., 4.]])"
      ]
     },
     "execution_count": 105,
     "metadata": {},
     "output_type": "execute_result"
    }
   ],
   "source": [
    "# Extract the first 2 rows and columns\n",
    "arr2[:2, :2]\n",
    "#list2[:2, :2]  # error \n",
    "#TypeError: list indices must be integers or slices, not tuple\n"
   ]
  },
  {
   "cell_type": "markdown",
   "metadata": {},
   "source": [
    "# numpy arrays support boolean indexing.\n",
    "\n",
    "#A boolean index array is of the same shape as the array-to-be-filtered and it contains only True and False values. \n",
    "#The values corresponding to True positions are retained in the output."
   ]
  },
  {
   "cell_type": "code",
   "execution_count": 107,
   "metadata": {},
   "outputs": [
    {
     "data": {
      "text/plain": [
       "array([[False, False, False, False],\n",
       "       [False, False, False,  True],\n",
       "       [False,  True,  True,  True]])"
      ]
     },
     "execution_count": 107,
     "metadata": {},
     "output_type": "execute_result"
    }
   ],
   "source": [
    "b = arr2 > 5\n",
    "#arr2[ arr2 > 0]\n",
    "b"
   ]
  },
  {
   "cell_type": "code",
   "execution_count": 108,
   "metadata": {},
   "outputs": [
    {
     "data": {
      "text/plain": [
       "array([5., 6., 5., 6., 7., 8.])"
      ]
     },
     "execution_count": 108,
     "metadata": {},
     "output_type": "execute_result"
    }
   ],
   "source": [
    "b = arr2 > 4\n",
    "arr2[arr2 > 4]\n"
   ]
  },
  {
   "cell_type": "code",
   "execution_count": 109,
   "metadata": {},
   "outputs": [
    {
     "data": {
      "text/plain": [
       "array([5., 6., 5., 6., 7., 8.])"
      ]
     },
     "execution_count": 109,
     "metadata": {},
     "output_type": "execute_result"
    }
   ],
   "source": [
    "arr2[b]"
   ]
  },
  {
   "cell_type": "markdown",
   "metadata": {},
   "source": [
    "# to reverse the rows and the whole array?\n",
    "#Reversing an array works like how you would do with lists, but you need to do for all the axes (dimensions)\n",
    "#if you want a complete reversal."
   ]
  },
  {
   "cell_type": "code",
   "execution_count": 111,
   "metadata": {},
   "outputs": [
    {
     "data": {
      "text/plain": [
       "'woh olleh'"
      ]
     },
     "execution_count": 111,
     "metadata": {},
     "output_type": "execute_result"
    }
   ],
   "source": [
    "lst=[4,5,6,7]\n",
    "str=\"hello how\"\n",
    "\n",
    "lst[::-1]\n",
    "str[::-1]\n"
   ]
  },
  {
   "cell_type": "markdown",
   "metadata": {},
   "source": [
    "[[1. 2. 3. 4.]\n",
    " [3. 4. 5. 6.]\n",
    " [5. 6. 7. 8.]]\n",
    "\n",
    "8 7 6 5\n",
    "6 5 4 3\n",
    "4 3 2 1"
   ]
  },
  {
   "cell_type": "code",
   "execution_count": 112,
   "metadata": {},
   "outputs": [
    {
     "data": {
      "text/plain": [
       "array([[8., 7., 6., 5.],\n",
       "       [6., 5., 4., 3.],\n",
       "       [4., 3., 2., 1.]])"
      ]
     },
     "execution_count": 112,
     "metadata": {},
     "output_type": "execute_result"
    }
   ],
   "source": [
    "# Reverse only the row positions\n",
    "arr2[::-1,::-1 ]\n"
   ]
  },
  {
   "cell_type": "code",
   "execution_count": 113,
   "metadata": {},
   "outputs": [
    {
     "name": "stdout",
     "output_type": "stream",
     "text": [
      "[[1. 2. 3. 4.]\n",
      " [3. 4. 5. 6.]\n",
      " [5. 6. 7. 8.]]\n",
      "------reversing column------\n",
      "[[4. 3. 2. 1.]\n",
      " [6. 5. 4. 3.]\n",
      " [8. 7. 6. 5.]]\n",
      "-------reversing row-----\n",
      "[[5. 6. 7. 8.]\n",
      " [3. 4. 5. 6.]\n",
      " [1. 2. 3. 4.]]\n"
     ]
    }
   ],
   "source": [
    "#only reversing column\n",
    "print(arr2)\n",
    "print(\"------reversing column------\")\n",
    "print(arr2[::,::-1])\n",
    "print(\"-------reversing row-----\")\n",
    "print(arr2[::-1,::])"
   ]
  },
  {
   "cell_type": "code",
   "execution_count": 114,
   "metadata": {},
   "outputs": [
    {
     "name": "stdout",
     "output_type": "stream",
     "text": [
      "[[1. 2. 3. 4.]\n",
      " [3. 4. 5. 6.]\n",
      " [5. 6. 7. 8.]]\n"
     ]
    },
    {
     "data": {
      "text/plain": [
       "array([[8., 7., 6., 5.],\n",
       "       [6., 5., 4., 3.],\n",
       "       [4., 3., 2., 1.]])"
      ]
     },
     "execution_count": 114,
     "metadata": {},
     "output_type": "execute_result"
    }
   ],
   "source": [
    "# Reverse the row and column positions\n",
    "print(arr2)\n",
    "arr2[::-1, ::-1]\n"
   ]
  },
  {
   "cell_type": "markdown",
   "metadata": {},
   "source": [
    "# to represent missing values and infinite? Missing values can be represented using np.nan object, while np.inf represents infinite. \n",
    "#Let’s place some in arr2d."
   ]
  },
  {
   "cell_type": "code",
   "execution_count": 116,
   "metadata": {},
   "outputs": [
    {
     "data": {
      "text/plain": [
       "array([[ 1.,  2.,  3.,  4.],\n",
       "       [ 3., nan, inf,  6.],\n",
       "       [ 5.,  6.,  7.,  8.]])"
      ]
     },
     "execution_count": 116,
     "metadata": {},
     "output_type": "execute_result"
    }
   ],
   "source": [
    "# Insert a nan and an inf\n",
    "arr2[1,1] = np.nan  # not a number\n",
    "arr2[1,2] = np.inf  # infinite\n",
    "arr2"
   ]
  },
  {
   "cell_type": "code",
   "execution_count": 117,
   "metadata": {},
   "outputs": [
    {
     "name": "stdout",
     "output_type": "stream",
     "text": [
      "[[False False False False]\n",
      " [False  True  True False]\n",
      " [False False False False]]\n"
     ]
    }
   ],
   "source": [
    "print(np.isnan(arr2) | np.isinf(arr2))\n"
   ]
  },
  {
   "cell_type": "code",
   "execution_count": 118,
   "metadata": {},
   "outputs": [
    {
     "data": {
      "text/plain": [
       "array([[ 1.,  2.,  3.,  4.],\n",
       "       [ 3., -1., -1.,  6.],\n",
       "       [ 5.,  6.,  7.,  8.]])"
      ]
     },
     "execution_count": 118,
     "metadata": {},
     "output_type": "execute_result"
    }
   ],
   "source": [
    "# Replace nan and inf with -1. Don't use arr2 == np.nan\n",
    "missing_bool = np.isnan(arr2) | np.isinf(arr2)\n",
    "arr2[missing_bool] = -1  \n",
    "arr2"
   ]
  },
  {
   "cell_type": "code",
   "execution_count": 119,
   "metadata": {},
   "outputs": [
    {
     "name": "stdout",
     "output_type": "stream",
     "text": [
      "1\n"
     ]
    }
   ],
   "source": [
    "#this is not a correct way because nan is a kind of attribute defined in numpy library to fill  the missing values\n",
    "if arr2[1][1]=='nan':\n",
    "    print(8)\n",
    "else:print(1)"
   ]
  },
  {
   "cell_type": "code",
   "execution_count": 120,
   "metadata": {},
   "outputs": [],
   "source": [
    "#to compute mean, min, max on the ndarray"
   ]
  },
  {
   "cell_type": "code",
   "execution_count": 121,
   "metadata": {},
   "outputs": [
    {
     "name": "stdout",
     "output_type": "stream",
     "text": [
      "Mean value is:  3.5833333333333335\n",
      "Max value is:  8.0\n",
      "Min value is:  -1.0\n"
     ]
    }
   ],
   "source": []
  },
  {
   "cell_type": "code",
   "execution_count": 126,
   "metadata": {},
   "outputs": [
    {
     "name": "stdout",
     "output_type": "stream",
     "text": [
      "[[ 1.  2.  3.  4.]\n",
      " [ 3. -1. -1.  6.]\n",
      " [ 5.  6.  7.  8.]]\n",
      "[[2.71828183e+00 7.38905610e+00 2.00855369e+01 5.45981500e+01]\n",
      " [2.00855369e+01 3.67879441e-01 3.67879441e-01 4.03428793e+02]\n",
      " [1.48413159e+02 4.03428793e+02 1.09663316e+03 2.98095799e+03]]\n",
      "[[1.         1.41421356 1.73205081 2.        ]\n",
      " [1.73205081        nan        nan 2.44948974]\n",
      " [2.23606798 2.44948974 2.64575131 2.82842712]]\n"
     ]
    },
    {
     "name": "stderr",
     "output_type": "stream",
     "text": [
      "C:\\Users\\ROBO\\Anaconda3\\lib\\site-packages\\ipykernel_launcher.py:5: RuntimeWarning: invalid value encountered in sqrt\n",
      "  \"\"\"\n"
     ]
    }
   ],
   "source": [
    "print(arr2)\n",
    "num3=np.exp(arr2)\n",
    "print(num3)\n",
    "\n",
    "num3=np.sqrt(arr2)\n",
    "print(num3)\n",
    "\n"
   ]
  },
  {
   "cell_type": "markdown",
   "metadata": {},
   "source": [
    "# dot product"
   ]
  },
  {
   "cell_type": "code",
   "execution_count": 137,
   "metadata": {},
   "outputs": [
    {
     "name": "stdout",
     "output_type": "stream",
     "text": [
      "14\n"
     ]
    }
   ],
   "source": [
    "#dot product\n",
    "x = np.array([2,4])\n",
    "y = np.array([1,3])\n",
    "dot_product = 0\n",
    "for a,b in zip(x,y):\n",
    "    dot_product += a * b\n",
    "\n",
    "print(dot_product)"
   ]
  },
  {
   "cell_type": "code",
   "execution_count": 128,
   "metadata": {},
   "outputs": [
    {
     "name": "stdout",
     "output_type": "stream",
     "text": [
      "[ 2 12]\n",
      "14\n"
     ]
    }
   ],
   "source": [
    "#DIRECTLY\n",
    "a = x * y\n",
    "print(a)\n",
    "print(a.sum())"
   ]
  },
  {
   "cell_type": "code",
   "execution_count": 138,
   "metadata": {},
   "outputs": [
    {
     "name": "stdout",
     "output_type": "stream",
     "text": [
      "14\n"
     ]
    }
   ],
   "source": [
    "print(x.dot(y))"
   ]
  },
  {
   "cell_type": "code",
   "execution_count": 131,
   "metadata": {},
   "outputs": [
    {
     "data": {
      "text/plain": [
       "array([[30, 36],\n",
       "       [66, 81]])"
      ]
     },
     "execution_count": 131,
     "metadata": {},
     "output_type": "execute_result"
    }
   ],
   "source": [
    "#multiy 2 atrix\n",
    "X = np.array(([1,2,3], [4,5,6]))   \n",
    "\n",
    "Y = np.array(([1,2], [4,5], [7,8]))\n",
    "\n",
    "Z = np.dot(X, Y)\n",
    "Z\n"
   ]
  },
  {
   "cell_type": "code",
   "execution_count": 132,
   "metadata": {},
   "outputs": [
    {
     "name": "stdout",
     "output_type": "stream",
     "text": [
      "[[30 36]\n",
      " [66 81]]\n"
     ]
    }
   ],
   "source": [
    "print(X.dot(Y))"
   ]
  },
  {
   "cell_type": "code",
   "execution_count": 133,
   "metadata": {},
   "outputs": [
    {
     "name": "stdout",
     "output_type": "stream",
     "text": [
      "[[ 30  36]\n",
      " [ 66  81]\n",
      " [102 126]]\n"
     ]
    }
   ],
   "source": [
    "X = np.array(([1,2,3], [4,5,6],[7,8,9]))   \n",
    "Y = np.array(([1,2], [4,5], [7,8]))\n",
    "print(X.dot(Y))"
   ]
  },
  {
   "cell_type": "code",
   "execution_count": 136,
   "metadata": {},
   "outputs": [
    {
     "data": {
      "text/plain": [
       "array([[ 8, 21,  2],\n",
       "       [ 0,  9, 30]])"
      ]
     },
     "execution_count": 136,
     "metadata": {},
     "output_type": "execute_result"
    }
   ],
   "source": [
    "X = np.array([[2,3], [0,9]]) \n",
    "\n",
    "Y = np.array([[4,7,2], [2,1,5]])\n",
    "\n",
    "Z = np.dot(X, Y)\n",
    "Z"
   ]
  },
  {
   "cell_type": "code",
   "execution_count": 135,
   "metadata": {},
   "outputs": [
    {
     "data": {
      "text/plain": [
       "array([[44, 41, 37],\n",
       "       [43, 29, 60],\n",
       "       [53, 47, 50]])"
      ]
     },
     "execution_count": 135,
     "metadata": {},
     "output_type": "execute_result"
    }
   ],
   "source": [
    "X = np.array([[2,3,6], [0,9,5],[2,5,7]]) \n",
    "\n",
    "Y = np.array([[4,7,2], [2,1,5],[5,4,3]])\n",
    "\n",
    "Z = np.dot(X, Y)\n",
    "Z"
   ]
  },
  {
   "cell_type": "code",
   "execution_count": 136,
   "metadata": {},
   "outputs": [
    {
     "name": "stdout",
     "output_type": "stream",
     "text": [
      "[[44 41 37]\n",
      " [43 29 60]\n",
      " [53 47 50]]\n"
     ]
    }
   ],
   "source": [
    "print(X.dot(Y))"
   ]
  },
  {
   "cell_type": "code",
   "execution_count": 139,
   "metadata": {},
   "outputs": [
    {
     "data": {
      "text/plain": [
       "array([[ 4,  9, 36],\n",
       "       [ 0, 81, 25],\n",
       "       [ 4, 25, 49]])"
      ]
     },
     "execution_count": 139,
     "metadata": {},
     "output_type": "execute_result"
    }
   ],
   "source": [
    "Z = np.multiply(X, X)\n",
    "Z"
   ]
  },
  {
   "cell_type": "markdown",
   "metadata": {},
   "source": [
    "# cumulative sum and min max according to row and column"
   ]
  },
  {
   "cell_type": "code",
   "execution_count": 140,
   "metadata": {},
   "outputs": [
    {
     "name": "stdout",
     "output_type": "stream",
     "text": [
      "Column wise minimum:  [ 1. -1. -1.  4.]\n",
      "Row wise minimum:  [ 1. -1.  5.]\n"
     ]
    }
   ],
   "source": [
    "#to compute the minimum values row wise or column wise, use the np.amin version instead.\n",
    "# Row wise and column wise min\n",
    "print(\"Column wise minimum: \", np.amin(arr2, axis=0))\n",
    "print(\"Row wise minimum: \", np.amin(arr2, axis=1))"
   ]
  },
  {
   "cell_type": "code",
   "execution_count": 142,
   "metadata": {},
   "outputs": [
    {
     "name": "stdout",
     "output_type": "stream",
     "text": [
      "ar: [[ 1.  2.  3.  4.]\n",
      " [ 3. -1. -1.  6.]\n",
      " [ 5.  6.  7.  8.]]\n"
     ]
    },
    {
     "data": {
      "text/plain": [
       "array([ 1.,  3.,  6., 10., 13., 12., 11., 17., 22., 28., 35., 43.])"
      ]
     },
     "execution_count": 142,
     "metadata": {},
     "output_type": "execute_result"
    }
   ],
   "source": [
    "# Cumulative Sum\n",
    "print(\"ar:\",arr2)\n",
    "np.cumsum(arr2)"
   ]
  },
  {
   "cell_type": "code",
   "execution_count": 44,
   "metadata": {},
   "outputs": [
    {
     "data": {
      "text/plain": [
       "array([[100.,   2.,   3.,   4.],\n",
       "       [  3.,  -1.,  -1.,   6.],\n",
       "       [  5.,   6.,   7.,   8.]])"
      ]
     },
     "execution_count": 44,
     "metadata": {},
     "output_type": "execute_result"
    }
   ],
   "source": [
    "#to create a new array from an existing array\n",
    "# Assign portion of arr2 to arr2a. Doesn't really create a new array.\n",
    "arr2a = arr2[:2,:2]  \n",
    "arr2a[:1, :1] = 100  # 100 will reflect in arr2\n",
    "arr2"
   ]
  },
  {
   "cell_type": "code",
   "execution_count": 143,
   "metadata": {},
   "outputs": [
    {
     "data": {
      "text/plain": [
       "array([[ 1.,  2.,  3.,  4.],\n",
       "       [ 3., -1., -1.,  6.],\n",
       "       [ 5.,  6.,  7.,  8.]])"
      ]
     },
     "execution_count": 143,
     "metadata": {},
     "output_type": "execute_result"
    }
   ],
   "source": [
    "arr2"
   ]
  },
  {
   "cell_type": "code",
   "execution_count": 144,
   "metadata": {},
   "outputs": [
    {
     "data": {
      "text/plain": [
       "array([[ 1.,  2.,  3.,  4.],\n",
       "       [ 3., -1., -1.,  6.],\n",
       "       [ 5.,  6.,  7.,  8.]])"
      ]
     },
     "execution_count": 144,
     "metadata": {},
     "output_type": "execute_result"
    }
   ],
   "source": [
    "# Copy portion of arr2 to arr2b\n",
    "arr2b = arr2[:2, :2].copy()\n",
    "arr2b[:1, :1] = 101  # 101 will not reflect in arr2\n",
    "arr2"
   ]
  },
  {
   "cell_type": "markdown",
   "metadata": {},
   "source": [
    "# Reshaping and Flattening Multidimensional arrays\n",
    "#Reshaping is changing the arrangement of items so that shape of the array changes while maintaining the same number\n",
    "#of dimensions.\n",
    "\n",
    "#Flattening, however, will convert a multi-dimensional array to a flat 1d array. And not any other shape.\n",
    "\n",
    "#Reshape a 3x4 array to 4x3 array\n",
    "arr2.reshape(4, 3)"
   ]
  },
  {
   "cell_type": "code",
   "execution_count": 145,
   "metadata": {},
   "outputs": [],
   "source": [
    "#There are 2 popular ways to implement flattening. That is using the flatten() method and the other using the ravel() method.\n",
    "#The difference between ravel and flatten is, the new array created using ravel is actually a reference to the parent array. So, any changes to the new array will affect the parent as well. But is memory efficient since it does not create a copy."
   ]
  },
  {
   "cell_type": "code",
   "execution_count": 147,
   "metadata": {},
   "outputs": [
    {
     "name": "stdout",
     "output_type": "stream",
     "text": [
      "original array: [[ 1.  2.  3.  4.]\n",
      " [ 3. -1. -1.  6.]\n",
      " [ 5.  6.  7.  8.]]\n",
      "flatten array [ 1.  2.  3.  4.  3. -1. -1.  6.  5.  6.  7.  8.]\n"
     ]
    }
   ],
   "source": [
    "# Flatten it to a 1d array\n",
    "print(\"original array:\",arr2)\n",
    "print(\"flatten array\",arr2.flatten())"
   ]
  },
  {
   "cell_type": "code",
   "execution_count": 148,
   "metadata": {},
   "outputs": [
    {
     "data": {
      "text/plain": [
       "array([[ 1.,  2.,  3.,  4.],\n",
       "       [ 3., -1., -1.,  6.],\n",
       "       [ 5.,  6.,  7.,  8.]])"
      ]
     },
     "execution_count": 148,
     "metadata": {},
     "output_type": "execute_result"
    }
   ],
   "source": [
    "# Changing the flattened array does not change parent\n",
    "b1 = arr2.flatten()  \n",
    "b1[0] = 100  # changing b1 does not affect arr2\n",
    "arr2"
   ]
  },
  {
   "cell_type": "code",
   "execution_count": 50,
   "metadata": {},
   "outputs": [
    {
     "data": {
      "text/plain": [
       "array([[101.,   2.,   3.,   4.],\n",
       "       [  3.,  -1.,  -1.,   6.],\n",
       "       [  5.,   6.,   7.,   8.]])"
      ]
     },
     "execution_count": 50,
     "metadata": {},
     "output_type": "execute_result"
    }
   ],
   "source": [
    "# Changing the raveled array changes the parent also.\n",
    "b2 = arr2.ravel()  \n",
    "b2[0] = 101  # changing b2 changes arr2 also\n",
    "arr2\n"
   ]
  },
  {
   "cell_type": "markdown",
   "metadata": {},
   "source": [
    "# create sequences, repetitions and random numbers using numpy\n"
   ]
  },
  {
   "cell_type": "code",
   "execution_count": 149,
   "metadata": {},
   "outputs": [
    {
     "name": "stdout",
     "output_type": "stream",
     "text": [
      "[0 1 2 3 4]\n",
      "[0 1 2 3 4 5 6 7 8 9]\n",
      "[0 2 4 6 8]\n",
      "[10  9  8  7  6  5  4  3  2  1]\n"
     ]
    }
   ],
   "source": [
    "# Lower limit is 0 be default\n",
    "print(np.arange(5))  \n",
    "\n",
    "# 0 to 9\n",
    "print(np.arange(0, 10))  \n",
    "\n",
    "# 0 to 9 with step of 2\n",
    "print(np.arange(0, 10, 2))  \n",
    "\n",
    "# 10 to 1, decreasing order\n",
    "print(np.arange(10, 0, -1))"
   ]
  },
  {
   "cell_type": "code",
   "execution_count": 154,
   "metadata": {},
   "outputs": [
    {
     "data": {
      "text/plain": [
       "array([ 1.        ,  6.44444444, 11.88888889, 17.33333333, 22.77777778,\n",
       "       28.22222222, 33.66666667, 39.11111111, 44.55555556, 50.        ])"
      ]
     },
     "execution_count": 154,
     "metadata": {},
     "output_type": "execute_result"
    }
   ],
   "source": [
    "#You can set the starting and end positions using np.arange. But if you are focussed on the number of items \n",
    "#in the array you will have to manually calculate the appropriate step value.\n",
    "#Say, you want to create an array of exactly 10 numbers between 1 and 50, Can you compute what would be \n",
    "#the step value?\n",
    "\n",
    "# Start at 1 and end at 50\n",
    "np.linspace(start=1, stop=50, num=10, dtype=float)"
   ]
  },
  {
   "cell_type": "code",
   "execution_count": 156,
   "metadata": {},
   "outputs": [
    {
     "data": {
      "text/plain": [
       "array([ 1,  6, 11, 17, 22, 28, 33, 39, 44, 50])"
      ]
     },
     "execution_count": 156,
     "metadata": {},
     "output_type": "execute_result"
    }
   ],
   "source": [
    "np.linspace(start=1, stop=50, num=10, dtype=int)"
   ]
  },
  {
   "cell_type": "markdown",
   "metadata": {},
   "source": [
    "# np zeros and ones method"
   ]
  },
  {
   "cell_type": "code",
   "execution_count": 157,
   "metadata": {},
   "outputs": [
    {
     "data": {
      "text/plain": [
       "array([[0., 0.],\n",
       "       [0., 0.]])"
      ]
     },
     "execution_count": 157,
     "metadata": {},
     "output_type": "execute_result"
    }
   ],
   "source": [
    "#The np.zeros and np.ones functions lets you create arrays of desired shape where all the items are either 0’s or 1’s.\n",
    "\n",
    "np.zeros([2,2])\n"
   ]
  },
  {
   "cell_type": "code",
   "execution_count": 158,
   "metadata": {},
   "outputs": [
    {
     "data": {
      "text/plain": [
       "array([[1., 1.],\n",
       "       [1., 1.]])"
      ]
     },
     "execution_count": 158,
     "metadata": {},
     "output_type": "execute_result"
    }
   ],
   "source": [
    "np.ones([2,2])"
   ]
  },
  {
   "cell_type": "markdown",
   "metadata": {},
   "source": [
    "# np,.tile and np.repeat"
   ]
  },
  {
   "cell_type": "code",
   "execution_count": 159,
   "metadata": {},
   "outputs": [
    {
     "name": "stdout",
     "output_type": "stream",
     "text": [
      "Tile:    [1 2 3 1 2 3]\n",
      "Repeat:  [1 1 2 2 3 3]\n"
     ]
    }
   ],
   "source": [
    "#to create repeating sequences?\n",
    "#np.tile will repeat a whole list or array n times. Whereas, np.repeat repeats each item n times.\n",
    "a = [1,2,3] \n",
    "\n",
    "# Repeat whole of 'a' two times\n",
    "print('Tile:   ', np.tile(a, 2))\n",
    "\n",
    "# Repeat each element of 'a' two times\n",
    "print('Repeat: ', np.repeat(a, 2))"
   ]
  },
  {
   "cell_type": "markdown",
   "metadata": {},
   "source": [
    "# use of random module"
   ]
  },
  {
   "cell_type": "code",
   "execution_count": 160,
   "metadata": {},
   "outputs": [
    {
     "name": "stdout",
     "output_type": "stream",
     "text": [
      "[[0.93891136 0.84708226]\n",
      " [0.77356548 0.05783182]]\n",
      "\n",
      "[[ 0.67846762 -2.05617741]\n",
      " [-0.97757939  0.76404323]]\n",
      "[[3 6]\n",
      " [0 5]]\n",
      "0.6546087059359361\n",
      "0\n",
      "[[0.71966282 0.78817957]\n",
      " [0.84126349 0.35456235]]\n",
      "['o' 'u' 'o' 'i' 'e' 'u' 'a' 'a' 'u' 'a']\n",
      "['a' 'i' 'a' 'o' 'a' 'o' 'o' 'a' 'o' 'u']\n"
     ]
    }
   ],
   "source": [
    "#to generate random numbers?\n",
    "#The random module provides nice functions to generate random numbers (and also statistical distributions) of any given shape.\n",
    "\n",
    "# Random numbers between [0,1) of shape 2,2\n",
    "print(np.random.rand(2,2))\n",
    "print()\n",
    "\n",
    "# Normal distribution with mean=0 and variance=1 of shape 2,2\n",
    "print(np.random.randn(2,2))\n",
    "\n",
    "# Random integers between [0, 10) of shape 2,2\n",
    "print(np.random.randint(0, 10, size=[2,2]))\n",
    "\n",
    "# One random number between [0,1)\n",
    "print(np.random.random())\n",
    "print(0)\n",
    "\n",
    "# Random numbers between [0,1) of shape 2,2\n",
    "print(np.random.random(size=[2,2]))\n",
    "\n",
    "# Pick 10 items from a given list, with equal probability\n",
    "print(np.random.choice(['a', 'e', 'i', 'o', 'u'], size=10))  \n",
    "\n",
    "# Pick 10 items from a given list with a predefined probability 'p'\n",
    "print(np.random.choice(['a', 'e', 'i', 'o', 'u'], size=10, p=[0.3, .1, 0.1, 0.4, 0.1]))  # picks more o's"
   ]
  },
  {
   "cell_type": "code",
   "execution_count": 161,
   "metadata": {},
   "outputs": [],
   "source": [
    "#Now, everytime you run any of the above functions, you get a different set of random numbers.\n",
    "\n",
    "#If you want to repeat the same set of random numbers every time, you need to set the seed or the random state. The see can be any value. The only requirement is you must set the seed to the same value every time you want to generate the same set of random numbers.\n",
    "\n",
    "#Once np.random.RandomState is created, all the functions of the np.random module becomes available to the created randomstate object."
   ]
  },
  {
   "cell_type": "markdown",
   "metadata": {},
   "source": [
    "# Create the random state\n",
    "rn = np.random.RandomState(100)\n",
    "\n",
    "# Create random numbers between [0,1) of shape 2,2\n",
    "print(rn.rand(2,2))"
   ]
  },
  {
   "cell_type": "code",
   "execution_count": 163,
   "metadata": {},
   "outputs": [
    {
     "name": "stdout",
     "output_type": "stream",
     "text": [
      "[[0.54340494 0.27836939]\n",
      " [0.42451759 0.84477613]]\n"
     ]
    }
   ],
   "source": [
    "# Set the random seed\n",
    "np.random.seed(100)\n",
    "\n",
    "# Create random numbers between [0,1) of shape 2,2\n",
    "print(np.random.rand(2,2))"
   ]
  },
  {
   "cell_type": "markdown",
   "metadata": {},
   "source": [
    "# to get the unique items and the counts?\n",
    "#The np.unique method can be used to get the unique items. If you want the repetition counts of each item, set the return_counts parameter to True."
   ]
  },
  {
   "cell_type": "code",
   "execution_count": 175,
   "metadata": {},
   "outputs": [
    {
     "name": "stdout",
     "output_type": "stream",
     "text": [
      "[8 8 3 7 7 0 4 2 5 2]\n",
      "Unique items :  [0 2 3 4 5 7 8]\n",
      "Counts       :  [1 2 1 1 1 2 2]\n"
     ]
    }
   ],
   "source": [
    "# Create random integers of size 10 between [0,10)\n",
    "np.random.seed(100)\n",
    "arr_rand = np.random.randint(0, 10, size=10)\n",
    "print(arr_rand)\n",
    "\n",
    "# Get the unique items and their counts\n",
    "uniqs, counts = np.unique(arr_rand, return_counts=True)\n",
    "print(\"Unique items : \", uniqs)\n",
    "print(\"Counts       : \", counts)"
   ]
  },
  {
   "cell_type": "code",
   "execution_count": 170,
   "metadata": {},
   "outputs": [
    {
     "name": "stdout",
     "output_type": "stream",
     "text": [
      "operating system error ,file not found anywhere \n"
     ]
    }
   ],
   "source": [
    "#In case, you MUST have the text column as it is without replacing it with a placeholder, \n",
    "#you can either set the dtype as ‘object’ or as None.\n",
    "try:\n",
    "         path = 'https://raw.githubusercontent.com/selva86/datasets/master/Auto.csv'\n",
    "         data2 = np.genfromtxt(path, delimiter=',', skip_header=1, dtype=None)\n",
    "#data2 = np.genfromtxt(path, delimiter=',', skip_header=1, dtype=object)\n",
    "         data2[:3]  # see first 3 rows\n",
    "except OSError:\n",
    "    print(\"operating system error ,file not found anywhere \")"
   ]
  },
  {
   "cell_type": "code",
   "execution_count": 169,
   "metadata": {},
   "outputs": [
    {
     "name": "stdout",
     "output_type": "stream",
     "text": [
      "os error occurs\n"
     ]
    }
   ],
   "source": [
    "# Save the array as a csv file\n",
    "try:\n",
    "        path = 'https://raw.githubusercontent.com/selva86/datasets/master/Auto.csv'\n",
    "        data2 = np.genfromtxt(path, delimiter=',', skip_header=1)\n",
    "        np.savetxt(\"out.csv\", data2, delimiter=\",\")\n",
    "except OSError:\n",
    "    print(\"os error occurs\")"
   ]
  },
  {
   "cell_type": "markdown",
   "metadata": {},
   "source": [
    "# save and load numpy objects\n",
    "#to save large transformed numpy arrays to disk and load it back to console directly\n",
    "#without having the re-run the data transformations code.\n",
    "#If you want to store a single ndarray object, store it as a .npy file using np.save. \n",
    "#This can be loaded back using the np.load.\n",
    "#If you want to store more than 1 ndarray object in a single file, then save it as a .npz file using np.savez."
   ]
  },
  {
   "cell_type": "code",
   "execution_count": 211,
   "metadata": {},
   "outputs": [],
   "source": [
    "# Save single numpy array object as .npy file\n",
    "np.save('myarray.npy', arr2d) "
   ]
  },
  {
   "cell_type": "code",
   "execution_count": 97,
   "metadata": {},
   "outputs": [],
   "source": [
    "# Save multile numy arrays as a .npz file\n",
    "np.savez('array.npz', arr2d_f, arr2d_b)"
   ]
  },
  {
   "cell_type": "code",
   "execution_count": 98,
   "metadata": {},
   "outputs": [
    {
     "name": "stdout",
     "output_type": "stream",
     "text": [
      "[[0 1 2]\n",
      " [3 4 5]\n",
      " [6 7 8]]\n"
     ]
    }
   ],
   "source": [
    "# Load a .npy file\n",
    "a = np.load('myarray.npy')\n",
    "print(a)"
   ]
  },
  {
   "cell_type": "code",
   "execution_count": 99,
   "metadata": {},
   "outputs": [
    {
     "name": "stdout",
     "output_type": "stream",
     "text": [
      "['arr_0', 'arr_1']\n"
     ]
    },
    {
     "data": {
      "text/plain": [
       "array([[0., 1., 2.],\n",
       "       [3., 4., 5.],\n",
       "       [6., 7., 8.]])"
      ]
     },
     "execution_count": 99,
     "metadata": {},
     "output_type": "execute_result"
    }
   ],
   "source": [
    "# Load a .npz file\n",
    "b = np.load('array.npz')\n",
    "print(b.files)\n",
    "b['arr_0']"
   ]
  },
  {
   "cell_type": "markdown",
   "metadata": {},
   "source": [
    "# There are 3 different ways of concatenating two or more numpy arrays.\n",
    "#Method 1: np.concatenate by changing the axis parameter to 0 and 1\n",
    "#Method 2: np.vstack and np.hstack\n",
    "#Method 3: np.r_ and np.c_  #concating two numpy arrays\n",
    "\n"
   ]
  },
  {
   "cell_type": "code",
   "execution_count": 107,
   "metadata": {},
   "outputs": [],
   "source": [
    "# Vertical Stack Equivalents (Row wise)\n"
   ]
  },
  {
   "cell_type": "code",
   "execution_count": 148,
   "metadata": {},
   "outputs": [
    {
     "data": {
      "text/plain": [
       "array([[0., 0., 0., 0., 1., 1.],\n",
       "       [0., 0., 0., 0., 1., 1.],\n",
       "       [0., 0., 0., 0., 1., 1.],\n",
       "       [0., 0., 0., 0., 1., 1.]])"
      ]
     },
     "execution_count": 148,
     "metadata": {},
     "output_type": "execute_result"
    }
   ],
   "source": [
    "#all same\n",
    "\n",
    "a = np.zeros([4, 4])\n",
    "b = np.ones([4,2 ])\n",
    "print(a)\n",
    "print(b)\n",
    "\n",
    "#x=np.concatenate([a, b],axis=1)  \n",
    "x=np.hstack([a,b])  \n",
    "#x=np.r_[a,b]  \n",
    "x"
   ]
  },
  {
   "cell_type": "code",
   "execution_count": 209,
   "metadata": {},
   "outputs": [
    {
     "data": {
      "text/plain": [
       "array([[0., 0., 0., 0., 1., 1., 1., 1.],\n",
       "       [0., 0., 0., 0., 1., 1., 1., 1.],\n",
       "       [0., 0., 0., 0., 1., 1., 1., 1.],\n",
       "       [0., 0., 0., 0., 1., 1., 1., 1.]])"
      ]
     },
     "execution_count": 209,
     "metadata": {},
     "output_type": "execute_result"
    }
   ],
   "source": [
    "# Horizontal Stack Equivalents (Column wise)\n",
    "np.concatenate([a, b], axis=1) \n",
    "np.hstack([a,b])  \n",
    "np.c_[a,b]"
   ]
  },
  {
   "cell_type": "code",
   "execution_count": 111,
   "metadata": {},
   "outputs": [
    {
     "data": {
      "text/plain": [
       "array([[3, 3, 2, 1],\n",
       "       [1, 5, 4, 5],\n",
       "       [3, 1, 4, 2],\n",
       "       [3, 4, 5, 5],\n",
       "       [2, 4, 5, 5],\n",
       "       [4, 4, 4, 2],\n",
       "       [2, 4, 1, 3],\n",
       "       [2, 2, 4, 3]])"
      ]
     },
     "execution_count": 111,
     "metadata": {},
     "output_type": "execute_result"
    }
   ],
   "source": [
    "#sort a numpy array\n",
    "arr = np.random.randint(1,6, size=[8, 4])\n",
    "arr"
   ]
  },
  {
   "cell_type": "markdown",
   "metadata": {},
   "source": [
    "# np sort function"
   ]
  },
  {
   "cell_type": "code",
   "execution_count": 300,
   "metadata": {},
   "outputs": [
    {
     "data": {
      "text/plain": [
       "array([[1, 1, 1, 1],\n",
       "       [1, 2, 2, 1],\n",
       "       [3, 2, 2, 1],\n",
       "       [3, 3, 2, 1],\n",
       "       [4, 3, 4, 3],\n",
       "       [4, 4, 5, 3],\n",
       "       [5, 4, 5, 3],\n",
       "       [5, 4, 5, 4]])"
      ]
     },
     "execution_count": 300,
     "metadata": {},
     "output_type": "execute_result"
    }
   ],
   "source": [
    "#np.sort function with axis=0 will sort all the columns in ascending order independent of eachother,\n",
    "#compromising the integrity of the row items.\n",
    "\n",
    "# Sort each columns of arr\n",
    "np.sort(arr, axis=0)"
   ]
  },
  {
   "cell_type": "code",
   "execution_count": 113,
   "metadata": {},
   "outputs": [
    {
     "name": "stdout",
     "output_type": "stream",
     "text": [
      "[0 3 2 4 5 1]\n"
     ]
    }
   ],
   "source": [
    "#np.argsort returns the index positions of that would make a given 1d array sorted.\n",
    "# Get the index positions that would sort the array\n",
    "x = np.array([1, 10, 5, 2, 8, 9])\n",
    "sort_index = np.argsort(x)\n",
    "print(sort_index)"
   ]
  },
  {
   "cell_type": "code",
   "execution_count": 114,
   "metadata": {},
   "outputs": [
    {
     "data": {
      "text/plain": [
       "array([ 1,  2,  5,  8,  9, 10])"
      ]
     },
     "execution_count": 114,
     "metadata": {},
     "output_type": "execute_result"
    }
   ],
   "source": [
    "#how it works?\n",
    "#In array ‘x’, the 0th item is the smallest, 3rd item is the second smallest and so on.\n",
    "x[sort_index]"
   ]
  },
  {
   "cell_type": "code",
   "execution_count": 119,
   "metadata": {},
   "outputs": [
    {
     "data": {
      "text/plain": [
       "array([4, 5, 2, 3, 0, 6, 1, 7], dtype=int64)"
      ]
     },
     "execution_count": 119,
     "metadata": {},
     "output_type": "execute_result"
    }
   ],
   "source": [
    "#Now, in order to sort the original arr, do an argsort on the 1st column and use the resulting index positions to sort arr\n",
    "# Argsort the first column\n",
    "sorted_index_1stcol = arr[:, 0].argsort()\n",
    "sorted_index_1stcol\n",
    "\n"
   ]
  },
  {
   "cell_type": "markdown",
   "metadata": {},
   "source": [
    "# other examples"
   ]
  },
  {
   "cell_type": "code",
   "execution_count": 155,
   "metadata": {},
   "outputs": [
    {
     "data": {
      "text/plain": [
       "array([1.00000000e+10, 1.59985872e+10, 2.55954792e+10, 4.09491506e+10,\n",
       "       6.55128557e+10, 1.04811313e+11, 1.67683294e+11, 2.68269580e+11,\n",
       "       4.29193426e+11, 6.86648845e+11, 1.09854114e+12, 1.75751062e+12,\n",
       "       2.81176870e+12, 4.49843267e+12, 7.19685673e+12, 1.15139540e+13,\n",
       "       1.84206997e+13, 2.94705170e+13, 4.71486636e+13, 7.54312006e+13,\n",
       "       1.20679264e+14, 1.93069773e+14, 3.08884360e+14, 4.94171336e+14,\n",
       "       7.90604321e+14, 1.26485522e+15, 2.02358965e+15, 3.23745754e+15,\n",
       "       5.17947468e+15, 8.28642773e+15, 1.32571137e+16, 2.12095089e+16,\n",
       "       3.39322177e+16, 5.42867544e+16, 8.68511374e+16, 1.38949549e+17,\n",
       "       2.22299648e+17, 3.55648031e+17, 5.68986603e+17, 9.10298178e+17,\n",
       "       1.45634848e+18, 2.32995181e+18, 3.72759372e+18, 5.96362332e+18,\n",
       "       9.54095476e+18, 1.52641797e+19, 2.44205309e+19, 3.90693994e+19,\n",
       "       6.25055193e+19, 1.00000000e+20])"
      ]
     },
     "execution_count": 155,
     "metadata": {},
     "output_type": "execute_result"
    }
   ],
   "source": [
    "np.logspace(10,20,50)"
   ]
  },
  {
   "cell_type": "code",
   "execution_count": 116,
   "metadata": {},
   "outputs": [
    {
     "data": {
      "text/plain": [
       "array([[4, 1, 2, 1],\n",
       "       [5, 3, 1, 1],\n",
       "       [3, 3, 2, 1],\n",
       "       [3, 2, 5, 3],\n",
       "       [1, 4, 4, 4],\n",
       "       [1, 2, 5, 3],\n",
       "       [4, 4, 5, 3],\n",
       "       [5, 4, 2, 1]])"
      ]
     },
     "execution_count": 116,
     "metadata": {},
     "output_type": "execute_result"
    }
   ],
   "source": [
    "#sort a numpy array\n",
    "arr = np.random.randint(1,6, size=[8, 4])\n",
    "arr"
   ]
  },
  {
   "cell_type": "code",
   "execution_count": 120,
   "metadata": {},
   "outputs": [
    {
     "data": {
      "text/plain": [
       "array([[1, 4, 4, 4],\n",
       "       [1, 2, 5, 3],\n",
       "       [3, 3, 2, 1],\n",
       "       [3, 2, 5, 3],\n",
       "       [4, 1, 2, 1],\n",
       "       [4, 4, 5, 3],\n",
       "       [5, 3, 1, 1],\n",
       "       [5, 4, 2, 1]])"
      ]
     },
     "execution_count": 120,
     "metadata": {},
     "output_type": "execute_result"
    }
   ],
   "source": [
    "# Sort 'arr' by first column without disturbing the integrity of rows\n",
    "arr[sorted_index_1stcol]"
   ]
  },
  {
   "cell_type": "code",
   "execution_count": null,
   "metadata": {},
   "outputs": [],
   "source": [
    "# Descending sort\n",
    "arr[sorted_index_1stcol[::-1]]"
   ]
  },
  {
   "cell_type": "code",
   "execution_count": 313,
   "metadata": {},
   "outputs": [
    {
     "data": {
      "text/plain": [
       "array([[1, 2, 5, 3],\n",
       "       [1, 4, 4, 4],\n",
       "       [3, 2, 5, 3],\n",
       "       [3, 3, 2, 1],\n",
       "       [4, 1, 2, 1],\n",
       "       [4, 4, 5, 3],\n",
       "       [5, 3, 1, 1],\n",
       "       [5, 4, 2, 1]])"
      ]
     },
     "execution_count": 313,
     "metadata": {},
     "output_type": "execute_result"
    }
   ],
   "source": [
    "#sort a numpy array based on 2 or more columns using np.lexsort\n",
    "#remember to place the column to be sorted first at the rightmost side inside the tuple.\n",
    "# Sort by column 0, then by column 1\n",
    "lexsorted_index = np.lexsort((arr[:,3],arr[:, 1], arr[:, 0])) \n",
    "arr[lexsorted_index]"
   ]
  },
  {
   "cell_type": "code",
   "execution_count": 123,
   "metadata": {},
   "outputs": [
    {
     "data": {
      "text/plain": [
       "numpy.datetime64('2018-02-04T23:10:10')"
      ]
     },
     "execution_count": 123,
     "metadata": {},
     "output_type": "execute_result"
    }
   ],
   "source": [
    "#date handling\n",
    "# Create a datetime64 object\n",
    "date64 = np.datetime64('2018-02-04 23:10:10')e\n",
    "date64"
   ]
  },
  {
   "cell_type": "code",
   "execution_count": 124,
   "metadata": {},
   "outputs": [
    {
     "data": {
      "text/plain": [
       "numpy.datetime64('2018-02-04')"
      ]
     },
     "execution_count": 124,
     "metadata": {},
     "output_type": "execute_result"
    }
   ],
   "source": [
    "# Drop the time part from the datetime64 object\n",
    "dt64 = np.datetime64(date64, 'D')\n",
    "dt64"
   ]
  },
  {
   "cell_type": "code",
   "execution_count": 125,
   "metadata": {},
   "outputs": [
    {
     "name": "stdout",
     "output_type": "stream",
     "text": [
      "Add 10 days:  2018-02-14\n",
      "Add 10 minutes:  2018-02-04T00:10\n",
      "Add 10 seconds:  2018-02-04T00:00:10\n",
      "Add 10 nanoseconds:  2018-02-04T00:00:00.000000010\n"
     ]
    }
   ],
   "source": [
    "#By default, if you add a number increases the number of days.\n",
    "#But if you need to increase any other time unit like months, hours, seconds etc, then the timedelta object is much convenient.\n",
    "# Create the timedeltas (individual units of time)\n",
    "tenminutes = np.timedelta64(10, 'm')  # 10 minutes\n",
    "tenseconds = np.timedelta64(10, 's')  # 10 seconds\n",
    "tennanoseconds = np.timedelta64(10, 'ns')  # 10 nanoseconds\n",
    "\n",
    "print('Add 10 days: ', dt64 + 10)\n",
    "print('Add 10 minutes: ', dt64 + tenminutes)\n",
    "print('Add 10 seconds: ', dt64 + tenseconds)\n",
    "print('Add 10 nanoseconds: ', dt64 + tennanoseconds)"
   ]
  },
  {
   "cell_type": "code",
   "execution_count": 126,
   "metadata": {},
   "outputs": [
    {
     "data": {
      "text/plain": [
       "'2018-02-04'"
      ]
     },
     "execution_count": 126,
     "metadata": {},
     "output_type": "execute_result"
    }
   ],
   "source": [
    "# Convert np.datetime64 back to a string\n",
    "np.datetime_as_string(dt64)"
   ]
  },
  {
   "cell_type": "code",
   "execution_count": 127,
   "metadata": {},
   "outputs": [
    {
     "name": "stdout",
     "output_type": "stream",
     "text": [
      "Date:  2018-02-04\n",
      "Is it a business day?:  False\n",
      "Add 2 business days, rolling forward to nearest biz day:  2018-02-07\n",
      "Add 2 business days, rolling backward to nearest biz day:  2018-02-06\n"
     ]
    }
   ],
   "source": [
    "#if a given date is a business day or not using the np.is_busday().\n",
    "print('Date: ', dt64)\n",
    "print(\"Is it a business day?: \", np.is_busday(dt64))  \n",
    "print(\"Add 2 business days, rolling forward to nearest biz day: \", np.busday_offset(dt64, 2, roll='forward'))  \n",
    "print(\"Add 2 business days, rolling backward to nearest biz day: \", np.busday_offset(dt64, 2, roll='backward'))  "
   ]
  },
  {
   "cell_type": "code",
   "execution_count": 128,
   "metadata": {},
   "outputs": [],
   "source": [
    "#create a sequence of dates"
   ]
  },
  {
   "cell_type": "code",
   "execution_count": 131,
   "metadata": {},
   "outputs": [
    {
     "name": "stdout",
     "output_type": "stream",
     "text": [
      "['2020-02-05' '2020-02-06' '2020-02-07' '2020-02-08' '2020-02-09'\n",
      " '2020-02-10' '2020-02-11' '2020-02-12' '2020-02-13']\n"
     ]
    },
    {
     "data": {
      "text/plain": [
       "array([ True,  True,  True, False, False,  True,  True,  True,  True])"
      ]
     },
     "execution_count": 131,
     "metadata": {},
     "output_type": "execute_result"
    }
   ],
   "source": [
    "# Create date sequence\n",
    "dates = np.arange(np.datetime64('2020-02-05'), np.datetime64('2020-02-14'))\n",
    "print(dates)\n",
    "\n",
    "# Check if its a business day\n",
    "np.is_busday(dates)"
   ]
  },
  {
   "cell_type": "code",
   "execution_count": 132,
   "metadata": {},
   "outputs": [],
   "source": [
    "# convert numpy.datetime64 to datetime.datetime object"
   ]
  },
  {
   "cell_type": "code",
   "execution_count": 142,
   "metadata": {},
   "outputs": [
    {
     "data": {
      "text/plain": [
       "datetime.date(2020, 2, 2)"
      ]
     },
     "execution_count": 142,
     "metadata": {},
     "output_type": "execute_result"
    }
   ],
   "source": [
    "# Convert np.datetime64 to datetime.datetime\n",
    "import datetime\n",
    "\n",
    "date64 = np.datetime64('2020-02-02')\n",
    "dt = date64.tolist()\n",
    "dt"
   ]
  },
  {
   "cell_type": "code",
   "execution_count": 144,
   "metadata": {},
   "outputs": [
    {
     "name": "stdout",
     "output_type": "stream",
     "text": [
      "Year:  2020\n",
      "Day of month:  2\n",
      "Month of year:  2\n",
      "Day of Week:  6\n"
     ]
    }
   ],
   "source": [
    "#now have a lot more facilities to extract the day of month, month of year etc.\n",
    "print('Year: ', dt.year)  \n",
    "print('Day of month: ', dt.day)\n",
    "print('Month of year: ', dt.month)  \n",
    "print('Day of Week: ', dt.weekday())  # Sunday\n",
    " \n",
    "\n"
   ]
  },
  {
   "cell_type": "code",
   "execution_count": 145,
   "metadata": {},
   "outputs": [],
   "source": [
    "#vectorize – Make a scalar function work on vectors"
   ]
  },
  {
   "cell_type": "code",
   "execution_count": 146,
   "metadata": {},
   "outputs": [
    {
     "name": "stdout",
     "output_type": "stream",
     "text": [
      "x = 10 returns  5.0\n",
      "x = 11 returns  121\n"
     ]
    }
   ],
   "source": [
    "\n",
    "#you can make a function that is meant to work on individual numbers, to work on arrays.\n",
    "# Define a scalar function\n",
    "def foo(x):\n",
    "    if x % 2 == 1:\n",
    "        return x**2\n",
    "    else:\n",
    "        return x/2\n",
    "\n",
    "# On a scalar\n",
    "print('x = 10 returns ', foo(10))\n",
    "print('x = 11 returns ', foo(11))"
   ]
  },
  {
   "cell_type": "code",
   "execution_count": 148,
   "metadata": {},
   "outputs": [
    {
     "ename": "TypeError",
     "evalue": "unsupported operand type(s) for %: 'list' and 'int'",
     "output_type": "error",
     "traceback": [
      "\u001b[1;31m---------------------------------------------------------------------------\u001b[0m",
      "\u001b[1;31mTypeError\u001b[0m                                 Traceback (most recent call last)",
      "\u001b[1;32m<ipython-input-148-c65f3e7fffa4>\u001b[0m in \u001b[0;36m<module>\u001b[1;34m()\u001b[0m\n\u001b[0;32m      1\u001b[0m \u001b[1;31m# On a vector, doesn't work\u001b[0m\u001b[1;33m\u001b[0m\u001b[1;33m\u001b[0m\u001b[0m\n\u001b[1;32m----> 2\u001b[1;33m \u001b[0mprint\u001b[0m\u001b[1;33m(\u001b[0m\u001b[1;34m'x = [10, 11, 12] returns '\u001b[0m\u001b[1;33m,\u001b[0m \u001b[0mfoo\u001b[0m\u001b[1;33m(\u001b[0m\u001b[1;33m[\u001b[0m\u001b[1;36m10\u001b[0m\u001b[1;33m,\u001b[0m \u001b[1;36m11\u001b[0m\u001b[1;33m,\u001b[0m \u001b[1;36m12\u001b[0m\u001b[1;33m]\u001b[0m\u001b[1;33m)\u001b[0m\u001b[1;33m)\u001b[0m\u001b[1;33m\u001b[0m\u001b[0m\n\u001b[0m",
      "\u001b[1;32m<ipython-input-146-cf26fa8cf4f5>\u001b[0m in \u001b[0;36mfoo\u001b[1;34m(x)\u001b[0m\n\u001b[0;32m      3\u001b[0m \u001b[1;31m# Define a scalar function\u001b[0m\u001b[1;33m\u001b[0m\u001b[1;33m\u001b[0m\u001b[0m\n\u001b[0;32m      4\u001b[0m \u001b[1;32mdef\u001b[0m \u001b[0mfoo\u001b[0m\u001b[1;33m(\u001b[0m\u001b[0mx\u001b[0m\u001b[1;33m)\u001b[0m\u001b[1;33m:\u001b[0m\u001b[1;33m\u001b[0m\u001b[0m\n\u001b[1;32m----> 5\u001b[1;33m     \u001b[1;32mif\u001b[0m \u001b[0mx\u001b[0m \u001b[1;33m%\u001b[0m \u001b[1;36m2\u001b[0m \u001b[1;33m==\u001b[0m \u001b[1;36m1\u001b[0m\u001b[1;33m:\u001b[0m\u001b[1;33m\u001b[0m\u001b[0m\n\u001b[0m\u001b[0;32m      6\u001b[0m         \u001b[1;32mreturn\u001b[0m \u001b[0mx\u001b[0m\u001b[1;33m**\u001b[0m\u001b[1;36m2\u001b[0m\u001b[1;33m\u001b[0m\u001b[0m\n\u001b[0;32m      7\u001b[0m     \u001b[1;32melse\u001b[0m\u001b[1;33m:\u001b[0m\u001b[1;33m\u001b[0m\u001b[0m\n",
      "\u001b[1;31mTypeError\u001b[0m: unsupported operand type(s) for %: 'list' and 'int'"
     ]
    }
   ],
   "source": [
    "# On a vector, doesn't work\n",
    "print('x = [10, 11, 12] returns ', foo([10, 11, 12]))"
   ]
  },
  {
   "cell_type": "code",
   "execution_count": 149,
   "metadata": {},
   "outputs": [
    {
     "name": "stdout",
     "output_type": "stream",
     "text": [
      "x = [10, 11, 12] returns  [  5. 121.   6.]\n",
      "x = [[10, 11, 12], [1, 2, 3]] returns  [[  5. 121.   6.]\n",
      " [  1.   1.   9.]]\n"
     ]
    }
   ],
   "source": [
    "# Vectorize foo(). Make it work on vectors.\n",
    "foo_v = np.vectorize(foo, otypes=[float])\n",
    "\n",
    "print('x = [10, 11, 12] returns ', foo_v([10, 11, 12]))\n",
    "print('x = [[10, 11, 12], [1, 2, 3]] returns ', foo_v([[10, 11, 12], [1, 2, 3]]))\n",
    "#vectorize also accepts an optional otypes parameter where you provide what the datatype of the output should be. \n",
    "#It makes the vectorized function run faster."
   ]
  },
  {
   "cell_type": "code",
   "execution_count": 150,
   "metadata": {},
   "outputs": [
    {
     "data": {
      "text/plain": [
       "array([[9, 9, 4, 8, 8, 1, 5, 3, 6, 3],\n",
       "       [3, 3, 2, 1, 9, 5, 1, 7, 3, 5],\n",
       "       [2, 6, 4, 5, 5, 4, 8, 2, 2, 8],\n",
       "       [8, 1, 3, 4, 3, 6, 9, 2, 1, 8]])"
      ]
     },
     "execution_count": 150,
     "metadata": {},
     "output_type": "execute_result"
    }
   ],
   "source": [
    "#Apply a function column wise or row wise\n",
    "# Create a 4x10 random array\n",
    "np.random.seed(100)\n",
    "arr_x = np.random.randint(1,10,size=[4,10])\n",
    "arr_x"
   ]
  },
  {
   "cell_type": "code",
   "execution_count": 151,
   "metadata": {},
   "outputs": [
    {
     "name": "stdout",
     "output_type": "stream",
     "text": [
      "Row wise:  [8 8 6 8]\n",
      "Column wise:  [7 8 2 7 6 5 8 5 5 5]\n"
     ]
    }
   ],
   "source": [
    "#find the difference of the maximum and the minimum value in each row\n",
    "#You can do this elegantly using the numpy.apply_along_axis.\n",
    "\n",
    "#It takes as arguments:\n",
    "\n",
    "#Function that works on a 1D vector (fund1d)\n",
    "#Axis along which to apply func1d. For a 2D array, 1 is row wise and 0 is column wise.\n",
    "#Array on which func1d should be applied.\n",
    "# Define func1d\n",
    "def max_minus_min(x):\n",
    "    return np.max(x) - np.min(x)\n",
    "\n",
    "# Apply along the rows\n",
    "print('Row wise: ', np.apply_along_axis(max_minus_min, 1, arr=arr_x))\n",
    "\n",
    "# Apply along the columns\n",
    "print('Column wise: ', np.apply_along_axis(max_minus_min, 0, arr=arr_x))"
   ]
  },
  {
   "cell_type": "code",
   "execution_count": 152,
   "metadata": {},
   "outputs": [
    {
     "name": "stdout",
     "output_type": "stream",
     "text": [
      "Original array:  [0 1 2 3 4]\n",
      "x_col shape:  (5, 1)\n",
      "[[0]\n",
      " [1]\n",
      " [2]\n",
      " [3]\n",
      " [4]]\n",
      "x_row shape:  (1, 5)\n",
      "[[0 1 2 3 4]]\n"
     ]
    }
   ],
   "source": [
    "#to add a new axis to a numpy array, ie to convert a 1D array into a 2D array\n",
    "#inserting a new axis using the np.newaxis.\n",
    "\n",
    "#Actually, using this you can raise an array of a lower dimension to a higher dimension.\n",
    "# Create a 1D array\n",
    "x = np.arange(5)\n",
    "print('Original array: ', x)\n",
    "\n",
    "# Introduce a new column axis\n",
    "x_col = x[:, np.newaxis]\n",
    "print('x_col shape: ', x_col.shape)\n",
    "print(x_col)\n",
    "\n",
    "# Introduce a new row axis\n",
    "x_row = x[np.newaxis, :]\n",
    "print('x_row shape: ', x_row.shape)\n",
    "print(x_row)\n"
   ]
  },
  {
   "cell_type": "code",
   "execution_count": 153,
   "metadata": {},
   "outputs": [
    {
     "data": {
      "text/plain": [
       "array([1, 1, 1, 2, 2, 2, 3, 3, 3, 4], dtype=int64)"
      ]
     },
     "execution_count": 153,
     "metadata": {},
     "output_type": "execute_result"
    }
   ],
   "source": [
    "#Use np.digitize to return the index position of the bin each element belongs to.\n",
    "# Create the array and bins\n",
    "x = np.arange(10)\n",
    "bins = np.array([0, 3, 6, 9])\n",
    "\n",
    "# Get bin allotments\n",
    "np.digitize(x, bins)"
   ]
  },
  {
   "cell_type": "code",
   "execution_count": 156,
   "metadata": {},
   "outputs": [
    {
     "data": {
      "text/plain": [
       "array([0, 1, 2, 3, 4, 5, 6, 7, 8, 9])"
      ]
     },
     "execution_count": 156,
     "metadata": {},
     "output_type": "execute_result"
    }
   ],
   "source": [
    "#Use np.clip to cap the numbers within a given cutoff range.\n",
    "#All number lesser than the lower limit will be replaced by the lower limit. Same applies to the upper limit also.\n",
    "\n",
    "# Cap all elements of x to lie between 3 and 8\n",
    "x = np.arange(10)\n",
    "x\n"
   ]
  },
  {
   "cell_type": "code",
   "execution_count": 157,
   "metadata": {},
   "outputs": [
    {
     "data": {
      "text/plain": [
       "array([3, 3, 3, 3, 4, 5, 6, 7, 8, 8])"
      ]
     },
     "execution_count": 157,
     "metadata": {},
     "output_type": "execute_result"
    }
   ],
   "source": [
    "np.clip(x, 3, 8)"
   ]
  },
  {
   "cell_type": "code",
   "execution_count": 158,
   "metadata": {},
   "outputs": [
    {
     "name": "stdout",
     "output_type": "stream",
     "text": [
      "Counts:  [2 2 2 3]\n",
      "Bins:  [0 2 4 6 8]\n"
     ]
    }
   ],
   "source": [
    "#While histogram() gives the frequency counts of the bins,\n",
    "# Histogram example\n",
    "counts, bins = np.histogram(x, [0, 2, 4, 6, 8])\n",
    "print('Counts: ', counts)\n",
    "print('Bins: ', bins)"
   ]
  },
  {
   "cell_type": "markdown",
   "metadata": {},
   "source": [
    "# concatenating arrays and summing the elements of array"
   ]
  },
  {
   "cell_type": "markdown",
   "metadata": {},
   "source": [
    "**Adding Rowwise\n"
   ]
  },
  {
   "cell_type": "code",
   "execution_count": 177,
   "metadata": {},
   "outputs": [
    {
     "data": {
      "text/plain": [
       "array([[1, 2],\n",
       "       [3, 4],\n",
       "       [5, 6]])"
      ]
     },
     "execution_count": 177,
     "metadata": {},
     "output_type": "execute_result"
    }
   ],
   "source": [
    "a = np.array([[1, 2], [3, 4]])\n",
    "b = np.array([[5, 6]])\n",
    "np.concatenate((a, b), axis=0)"
   ]
  },
  {
   "cell_type": "code",
   "execution_count": 178,
   "metadata": {},
   "outputs": [
    {
     "name": "stdout",
     "output_type": "stream",
     "text": [
      "[ 5 11  6 13]\n",
      "[[2 2 1 0]\n",
      " [0 4 3 4]\n",
      " [2 0 3 1]\n",
      " [2 3 4 4]]\n"
     ]
    }
   ],
   "source": [
    "x = np.random.randint(5, size=(4, 4))\n",
    "\n",
    "columns = np.sum(x,axis=1)\n",
    "#rows = np.sum(np.transpose(x),axis=1)\n",
    "print(columns)\n",
    "print(x)\n"
   ]
  },
  {
   "cell_type": "code",
   "execution_count": 179,
   "metadata": {},
   "outputs": [
    {
     "name": "stdout",
     "output_type": "stream",
     "text": [
      "[[ 5 11  6 13]]\n",
      "[[ 2  2  1  0  5]\n",
      " [ 0  4  3  4 11]\n",
      " [ 2  0  3  1  6]\n",
      " [ 2  3  4  4 13]]\n"
     ]
    }
   ],
   "source": [
    "col=np.array([np.sum(x,axis=1)])\n",
    "print(col)\n",
    "x=np.concatenate((x,col.T),axis=1)\n",
    "print(x)"
   ]
  },
  {
   "cell_type": "code",
   "execution_count": 180,
   "metadata": {},
   "outputs": [
    {
     "name": "stdout",
     "output_type": "stream",
     "text": [
      "[[1 3 4 4]\n",
      " [3 3 3 1]\n",
      " [1 3 0 2]\n",
      " [1 1 3 2]]\n",
      "[[12 10  6  7]]\n",
      "[[ 1  3  4  4 12]\n",
      " [ 3  3  3  1 10]\n",
      " [ 1  3  0  2  6]\n",
      " [ 1  1  3  2  7]]\n"
     ]
    }
   ],
   "source": [
    "x = np.random.randint(5, size=(4, 4))\n",
    "print(x)\n",
    "rowsum=np.array([np.sum(x,axis=1)])\n",
    "print(rowsum)\n",
    "x=np.concatenate((x,rowsum.T),axis=1)\n",
    "print(x)"
   ]
  },
  {
   "cell_type": "code",
   "execution_count": 181,
   "metadata": {},
   "outputs": [
    {
     "data": {
      "text/plain": [
       "array([[1, 2, 3, 4],\n",
       "       [3, 4, 5, 6],\n",
       "       [5, 6, 7, 8]])"
      ]
     },
     "execution_count": 181,
     "metadata": {},
     "output_type": "execute_result"
    }
   ],
   "source": [
    "#summing rows and adding the summed rows in array\n",
    "list2 = [[1, 2, 3, 4],[3, 4, 5, 6], [5, 6, 7, 8]]\n",
    "\n",
    "arr2 = np.array(list2)\n",
    "arr2\n"
   ]
  },
  {
   "cell_type": "code",
   "execution_count": 182,
   "metadata": {},
   "outputs": [
    {
     "name": "stdout",
     "output_type": "stream",
     "text": [
      "[[10 18 26]]\n",
      "[[ 1  2  3  4 10]\n",
      " [ 3  4  5  6 18]\n",
      " [ 5  6  7  8 26]]\n"
     ]
    }
   ],
   "source": [
    "col=np.array([np.sum(arr2,axis=1)])\n",
    "print(col)\n",
    "arr2=np.concatenate((arr2,col.T),axis=1)\n",
    "print(arr2)"
   ]
  },
  {
   "cell_type": "code",
   "execution_count": 183,
   "metadata": {},
   "outputs": [
    {
     "name": "stdout",
     "output_type": "stream",
     "text": [
      "[[ 9 12 15 18 54]]\n"
     ]
    }
   ],
   "source": [
    "#summing cols and adding the summed cols in array\n",
    "arr3=np.array([np.sum(arr2,axis=0)])\n",
    "print(arr3)"
   ]
  },
  {
   "cell_type": "code",
   "execution_count": 184,
   "metadata": {},
   "outputs": [
    {
     "data": {
      "text/plain": [
       "array([[ 1,  2,  3,  4, 10],\n",
       "       [ 3,  4,  5,  6, 18],\n",
       "       [ 5,  6,  7,  8, 26],\n",
       "       [ 9, 12, 15, 18, 54]])"
      ]
     },
     "execution_count": 184,
     "metadata": {},
     "output_type": "execute_result"
    }
   ],
   "source": [
    "\n",
    "#arr2=np.concatenate((arr3),axis=0)\n",
    "#print(arr2)\n",
    "j=np.concatenate((arr2,arr3),axis=0)\n",
    "j\n",
    "#np.hstack([arr3,arr2])"
   ]
  },
  {
   "cell_type": "code",
   "execution_count": null,
   "metadata": {},
   "outputs": [],
   "source": []
  },
  {
   "cell_type": "code",
   "execution_count": null,
   "metadata": {},
   "outputs": [],
   "source": []
  },
  {
   "cell_type": "code",
   "execution_count": null,
   "metadata": {},
   "outputs": [],
   "source": []
  }
 ],
 "metadata": {
  "kernelspec": {
   "display_name": "Python 3",
   "language": "python",
   "name": "python3"
  },
  "language_info": {
   "codemirror_mode": {
    "name": "ipython",
    "version": 3
   },
   "file_extension": ".py",
   "mimetype": "text/x-python",
   "name": "python",
   "nbconvert_exporter": "python",
   "pygments_lexer": "ipython3",
   "version": "3.7.3"
  }
 },
 "nbformat": 4,
 "nbformat_minor": 2
}
